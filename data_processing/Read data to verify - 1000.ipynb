{
 "cells": [
  {
   "cell_type": "code",
   "execution_count": 49,
   "metadata": {},
   "outputs": [],
   "source": [
    "from __future__ import unicode_literals\n",
    "from __future__ import division\n",
    "\n",
    "import pandas as pd\n",
    "pd.options.display.max_columns = None\n",
    "\n",
    "TEST_BUCKET = 'telemetry-test-bucket/birdsarah-test'\n",
    "\n",
    "N_FILES = 1000"
   ]
  },
  {
   "cell_type": "code",
   "execution_count": 15,
   "metadata": {},
   "outputs": [],
   "source": [
    "bad_location_2 = \"s3a://{}/bad_{}.parquet\".format(TEST_BUCKET, N_FILES)\n",
    "good_location_2 = \"s3a://{}/good_{}.parquet\".format(TEST_BUCKET, N_FILES)"
   ]
  },
  {
   "cell_type": "code",
   "execution_count": 16,
   "metadata": {},
   "outputs": [],
   "source": [
    "bad_data = spark.read.parquet(bad_location_2).toPandas()"
   ]
  },
  {
   "cell_type": "code",
   "execution_count": 17,
   "metadata": {},
   "outputs": [],
   "source": [
    "good_data = spark.read.parquet(good_location_2)"
   ]
  },
  {
   "cell_type": "code",
   "execution_count": 22,
   "metadata": {},
   "outputs": [
    {
     "name": "stdout",
     "output_type": "stream",
     "text": [
      "script_url:  not valid ||\n",
      "script_line: https not valid ||\n",
      "script_col: //static.parastorage.com/unpkg/react-dom not valid ||\n",
      "\n",
      "script_url:  not valid ||\n",
      "script_line: https not valid ||\n",
      "script_col: //static.parastorage.com/unpkg/react-dom not valid ||\n",
      "\n",
      "script_url:  not valid ||\n",
      "script_line: https not valid ||\n",
      "script_col: //static.parastorage.com/unpkg/santa-core-utils not valid ||\n",
      "\n",
      "script_url:  not valid ||\n",
      "script_line: https not valid ||\n",
      "script_col: //static.parastorage.com/unpkg/santa-core-utils not valid ||\n",
      "\n",
      "script_url:  not valid ||\n",
      "script_line: https not valid ||\n",
      "script_col: //static.parastorage.com/unpkg/santa-core-utils not valid ||\n",
      "\n",
      "script_url:  not valid ||\n",
      "script_line: https not valid ||\n",
      "script_col: //static.parastorage.com/unpkg/santa-core-utils not valid ||\n",
      "\n",
      "script_url:  not valid ||\n",
      "script_line: https not valid ||\n",
      "script_col: //static.parastorage.com/unpkg/santa-core-utils not valid ||\n",
      "\n",
      "script_url:  not valid ||\n",
      "script_line: https not valid ||\n",
      "script_col: //static.parastorage.com/unpkg/santa-core-utils not valid ||\n",
      "\n",
      "script_url:  not valid ||\n",
      "script_line: https not valid ||\n",
      "script_col: //static.parastorage.com/unpkg/santa-core-utils not valid ||\n",
      "\n",
      "script_url:  not valid ||\n",
      "script_line: https not valid ||\n",
      "script_col: //static.parastorage.com/unpkg/santa-core-utils not valid ||\n",
      "\n",
      "script_url:  not valid ||\n",
      "script_line: https not valid ||\n",
      "script_col: //static.parastorage.com/unpkg/santa-core-utils not valid ||\n",
      "\n",
      "script_url:  not valid ||\n",
      "script_line: https not valid ||\n",
      "script_col: //static.parastorage.com/unpkg/santa-core-utils not valid ||\n",
      "\n",
      "script_url:  not valid ||\n",
      "script_line: https not valid ||\n",
      "script_col: //static.parastorage.com/unpkg/santa-core-utils not valid ||\n",
      "\n",
      "script_url:  not valid ||\n",
      "script_line: https not valid ||\n",
      "script_col: //static.parastorage.com/unpkg/santa-core-utils not valid ||\n",
      "\n",
      "script_url:  not valid ||\n",
      "script_line: https not valid ||\n",
      "script_col: //static.parastorage.com/unpkg/santa-core-utils not valid ||\n",
      "\n",
      "script_url:  not valid ||\n",
      "script_line: https not valid ||\n",
      "script_col: //static.parastorage.com/unpkg/santa-core-utils not valid ||\n",
      "\n",
      "script_url:  not valid ||\n",
      "script_line: https not valid ||\n",
      "script_col: //static.parastorage.com/unpkg/santa-core-utils not valid ||\n",
      "\n",
      "script_url:  not valid ||\n",
      "script_line: https not valid ||\n",
      "script_col: //static.parastorage.com/unpkg/santa-core-utils not valid ||\n",
      "\n",
      "script_url:  not valid ||\n",
      "script_line: https not valid ||\n",
      "script_col: //static.parastorage.com/unpkg/santa-core-utils not valid ||\n",
      "\n",
      "script_url:  not valid ||\n",
      "script_line: https not valid ||\n",
      "script_col: //static.parastorage.com/unpkg/santa-core-utils not valid ||\n",
      "\n",
      "script_url:  not valid ||\n",
      "script_line: https not valid ||\n",
      "script_col: //static.parastorage.com/unpkg/santa-core-utils not valid ||\n",
      "\n",
      "script_url:  not valid ||\n",
      "script_line: https not valid ||\n",
      "script_col: //static.parastorage.com/unpkg/santa-core-utils not valid ||\n",
      "\n",
      "script_url:  not valid ||\n",
      "script_line: https not valid ||\n",
      "script_col: //static.parastorage.com/unpkg/santa-core-utils not valid ||\n",
      "\n",
      "script_url:  not valid ||\n",
      "script_line: https not valid ||\n",
      "script_col: //static.parastorage.com/unpkg/santa-core-utils not valid ||\n",
      "\n",
      "script_url:  not valid ||\n",
      "script_line: https not valid ||\n",
      "script_col: //static.parastorage.com/unpkg/santa-core-utils not valid ||\n",
      "\n",
      "script_url:  not valid ||\n",
      "script_line: https not valid ||\n",
      "script_col: //static.parastorage.com/unpkg/santa-core-utils not valid ||\n",
      "\n",
      "script_url:  not valid ||\n",
      "script_line: https not valid ||\n",
      "script_col: //static.parastorage.com/unpkg/santa-core-utils not valid ||\n",
      "\n",
      "script_url:  not valid ||\n",
      "script_line: https not valid ||\n",
      "script_col: //static.parastorage.com/unpkg/santa-core-utils not valid ||\n",
      "\n",
      "script_url:  not valid ||\n",
      "script_line: https not valid ||\n",
      "script_col: //static.parastorage.com/unpkg/santa-core-utils not valid ||\n",
      "\n",
      "script_url:  not valid ||\n",
      "script_line: https not valid ||\n",
      "script_col: //static.parastorage.com/unpkg/santa-core-utils not valid ||\n",
      "\n",
      "script_url:  not valid ||\n",
      "script_line: https not valid ||\n",
      "script_col: //s2-prod.manchestereveningnews.co.uk/ not valid ||\n",
      "\n",
      "script_url:  not valid ||\n",
      "script_line:  not valid ||\n",
      "\n",
      "script_url:  not valid ||\n",
      "script_line:  not valid ||\n",
      "\n"
     ]
    }
   ],
   "source": [
    "for val in bad_data.errors:\n",
    "    print(val)"
   ]
  },
  {
   "cell_type": "code",
   "execution_count": 43,
   "metadata": {},
   "outputs": [
    {
     "name": "stdout",
     "output_type": "stream",
     "text": [
      "0.0491%\n"
     ]
    }
   ],
   "source": [
    "bad_count = len(bad_data)\n",
    "good_count = good_data.count()\n",
    "print('{:.4%}'.format(bad_count / good_count))"
   ]
  },
  {
   "cell_type": "code",
   "execution_count": 33,
   "metadata": {},
   "outputs": [
    {
     "data": {
      "text/plain": [
       "[Row(min(call_id)=u'1_00a944fe4f94fd029c55bc63d2ef7071ff082999a3426d18ec00bbce.json__0')]"
      ]
     },
     "execution_count": 33,
     "metadata": {},
     "output_type": "execute_result"
    }
   ],
   "source": [
    "good_data.agg({\"call_id\": \"min\"}).collect()"
   ]
  },
  {
   "cell_type": "code",
   "execution_count": 34,
   "metadata": {},
   "outputs": [
    {
     "data": {
      "text/plain": [
       "[Row(max(call_id)=u'1_ff752c8c306eab630e9b4a68a769cd7bc08fe8c297e304e5b61ca86e.json__9')]"
      ]
     },
     "execution_count": 34,
     "metadata": {},
     "output_type": "execute_result"
    }
   ],
   "source": [
    "good_data.agg({\"call_id\": \"max\"}).collect()"
   ]
  },
  {
   "cell_type": "code",
   "execution_count": 37,
   "metadata": {},
   "outputs": [],
   "source": [
    "http_location = good_data[good_data.location.startswith('http:')]\n",
    "http_location_count = http_location.count()\n",
    "https_location = good_data[good_data.location.startswith('https:')]\n",
    "https_location_count = https_location.count()"
   ]
  },
  {
   "cell_type": "code",
   "execution_count": 38,
   "metadata": {},
   "outputs": [
    {
     "name": "stdout",
     "output_type": "stream",
     "text": [
      "67,167 rows\n",
      "29,803 http rows\n",
      "37,364 https rows\n",
      "Missing: 0\n",
      "Proportion https: 55.63%\n"
     ]
    }
   ],
   "source": [
    "print('{:,} rows'.format(good_count))\n",
    "print('{:,} http rows'.format(http_location_count))\n",
    "print('{:,} https rows'.format(https_location_count))\n",
    "print('Missing: {}'.format(count - https_location_count - http_location_count))\n",
    "print('Proportion https: {:.2%}'.format((https_location_count / good_count)))"
   ]
  },
  {
   "cell_type": "code",
   "execution_count": 39,
   "metadata": {},
   "outputs": [],
   "source": [
    "mixed_content = https_location[~https_location.script_url.startswith('https')]"
   ]
  },
  {
   "cell_type": "code",
   "execution_count": 41,
   "metadata": {},
   "outputs": [
    {
     "name": "stdout",
     "output_type": "stream",
     "text": [
      "+------------+-----+\n",
      "|initial_char|count|\n",
      "+------------+-----+\n",
      "|           g|    2|\n",
      "|           w|    2|\n",
      "|           i|   22|\n",
      "|           t|   26|\n",
      "+------------+-----+\n",
      "\n"
     ]
    }
   ],
   "source": [
    "initial_char = mixed_content.script_url.substr(0, 1)\n",
    "mixed_content.withColumn('initial_char', initial_char).groupBy('initial_char').count().show()"
   ]
  },
  {
   "cell_type": "code",
   "execution_count": 51,
   "metadata": {},
   "outputs": [
    {
     "name": "stdout",
     "output_type": "stream",
     "text": [
      "+---------+-----+\n",
      "|operation|count|\n",
      "+---------+-----+\n",
      "|      set|11586|\n",
      "|     call|21779|\n",
      "|      get|33802|\n",
      "+---------+-----+\n",
      "\n"
     ]
    }
   ],
   "source": [
    "good_data.groupBy('operation').count().show()"
   ]
  },
  {
   "cell_type": "code",
   "execution_count": 52,
   "metadata": {},
   "outputs": [
    {
     "data": {
      "text/plain": [
       "[('argument_0', 'string'),\n",
       " ('argument_1', 'string'),\n",
       " ('argument_2', 'string'),\n",
       " ('argument_3', 'string'),\n",
       " ('argument_4', 'string'),\n",
       " ('argument_5', 'string'),\n",
       " ('argument_6', 'string'),\n",
       " ('argument_7', 'string'),\n",
       " ('argument_8', 'string'),\n",
       " ('arguments', 'string'),\n",
       " ('arguments_n_keys', 'bigint'),\n",
       " ('call_id', 'string'),\n",
       " ('call_stack', 'string'),\n",
       " ('crawl_id', 'bigint'),\n",
       " ('file_name', 'string'),\n",
       " ('func_name', 'string'),\n",
       " ('in_iframe', 'boolean'),\n",
       " ('location', 'string'),\n",
       " ('operation', 'string'),\n",
       " ('script_col', 'string'),\n",
       " ('script_line', 'string'),\n",
       " ('script_loc_eval', 'string'),\n",
       " ('script_url', 'string'),\n",
       " ('symbol', 'string'),\n",
       " ('time_stamp', 'timestamp'),\n",
       " ('value', 'string'),\n",
       " ('value_1000', 'string'),\n",
       " ('value_len', 'int'),\n",
       " ('valid', 'boolean'),\n",
       " ('errors', 'string')]"
      ]
     },
     "execution_count": 52,
     "metadata": {},
     "output_type": "execute_result"
    }
   ],
   "source": [
    "good_data.dtypes"
   ]
  },
  {
   "cell_type": "code",
   "execution_count": 61,
   "metadata": {},
   "outputs": [
    {
     "name": "stdout",
     "output_type": "stream",
     "text": [
      "+-----------------------+\n",
      "|min(time_stamp)        |\n",
      "+-----------------------+\n",
      "|2017-12-15 22:05:19.181|\n",
      "+-----------------------+\n",
      "\n"
     ]
    }
   ],
   "source": [
    "good_data.agg({\"time_stamp\": \"min\"}).show(1, False)"
   ]
  },
  {
   "cell_type": "code",
   "execution_count": 62,
   "metadata": {},
   "outputs": [
    {
     "name": "stdout",
     "output_type": "stream",
     "text": [
      "+-----------------------+\n",
      "|max(time_stamp)        |\n",
      "+-----------------------+\n",
      "|2017-12-17 01:19:42.627|\n",
      "+-----------------------+\n",
      "\n"
     ]
    }
   ],
   "source": [
    "good_data.agg({\"time_stamp\": \"max\"}).show(1, False)"
   ]
  },
  {
   "cell_type": "code",
   "execution_count": null,
   "metadata": {},
   "outputs": [],
   "source": []
  }
 ],
 "metadata": {
  "anaconda-cloud": {},
  "kernelspec": {
   "display_name": "Python [conda root]",
   "language": "python",
   "name": "conda-root-py"
  },
  "language_info": {
   "codemirror_mode": {
    "name": "ipython",
    "version": 2
   },
   "file_extension": ".py",
   "mimetype": "text/x-python",
   "name": "python",
   "nbconvert_exporter": "python",
   "pygments_lexer": "ipython2",
   "version": "2.7.12"
  }
 },
 "nbformat": 4,
 "nbformat_minor": 1
}
