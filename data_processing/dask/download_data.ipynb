{
 "cells": [
  {
   "cell_type": "code",
   "execution_count": 1,
   "metadata": {},
   "outputs": [],
   "source": [
    "import boto3\n",
    "import concurrent.futures\n",
    "\n",
    "from path import Path\n",
    "\n",
    "BUCKET_NAME = 'safe-ucosp-2017'\n",
    "PROJECT_DIR = Path.getcwd().parent # Could assert some things here to check we got the right path"
   ]
  },
  {
   "cell_type": "code",
   "execution_count": 3,
   "metadata": {},
   "outputs": [],
   "source": [
    "session = boto3.Session(profile_name='default')  # Change to match the profile name in ~/.aws/credentials\n",
    "s3 = session.resource('s3')\n",
    "bucket = s3.Bucket(BUCKET_NAME)"
   ]
  },
  {
   "cell_type": "code",
   "execution_count": 4,
   "metadata": {},
   "outputs": [
    {
     "data": {
      "text/plain": [
       "Path('/home/bird/Dev/mozilla/sb2018/file_index.txt')"
      ]
     },
     "execution_count": 4,
     "metadata": {},
     "output_type": "execute_result"
    }
   ],
   "source": [
    "index_file_path = Path.joinpath(PROJECT_DIR, 'file_index.txt')\n",
    "assert index_file_path.exists(), 'Index File is missing'\n",
    "index_file_path"
   ]
  },
  {
   "cell_type": "code",
   "execution_count": 9,
   "metadata": {},
   "outputs": [
    {
     "name": "stdout",
     "output_type": "stream",
     "text": [
      "1_00001314358470f0c99914d5c7af0cd89248e54883ac3b5083395b61.json\n",
      "1_000014b53a60c645e3ac9bde6bae020430c930b3cc5903677e0d5cb2.json\n",
      "1_00003e3765a73da45db5265de2b22424e025d61380f7cf8080b378aa.json\n",
      "1_00004636d8310609e710934f194bfb41a5f0ac7ed5e05c0fb9047e48.json\n",
      "1_00004b8315fd1954f06dd80b85ebc61f7ab006785cd3cf37dd59f789.json\n"
     ]
    }
   ],
   "source": [
    "# Read the first few lines\n",
    "with open(index_file_path, 'r') as index_file:\n",
    "    index = index_file.readlines()\n",
    "\n",
    "for file_name in index[0:5]:\n",
    "    print(file_name.rstrip())"
   ]
  },
  {
   "cell_type": "markdown",
   "metadata": {},
   "source": [
    "### Download all files"
   ]
  },
  {
   "cell_type": "markdown",
   "metadata": {},
   "source": [
    "    previously_downloaded = []\n",
    "    freshly_downloaded = []\n",
    "    with open(index_file_path, 'r') as index_file:\n",
    "        contents = index_file.readlines()\n",
    "        for line in contents:\n",
    "            key = line.rstrip()\n",
    "            cache_file_path = Path.joinpath(PROJECT_DIR, 'cache', key)\n",
    "            if cache_file_path.exists():\n",
    "                previously_downloaded.append(key)\n",
    "            else:\n",
    "                freshly_downloaded.append(key)\n",
    "                bucket.download_file(Key=key, Filename=cache_file_path)\n",
    "    \n",
    "    # Took around 8min to download 2000 files\n",
    "    # Need to use threading to get this moving fast enough"
   ]
  },
  {
   "cell_type": "code",
   "execution_count": 42,
   "metadata": {},
   "outputs": [
    {
     "name": "stdout",
     "output_type": "stream",
     "text": [
      "Building future_map\n",
      "Finished building future_map\n"
     ]
    }
   ],
   "source": [
    "errored = []\n",
    "existing = []\n",
    "new = []\n",
    "\n",
    "def download(line):\n",
    "    key = line.rstrip()\n",
    "    cache_file_path = Path.joinpath(PROJECT_DIR, 'cache', key)\n",
    "    if cache_file_path.exists():\n",
    "        existing.append(key)\n",
    "        return False\n",
    "    else:\n",
    "        bucket.download_file(Key=key, Filename=cache_file_path)\n",
    "        new.append(key)\n",
    "        return True\n",
    "\n",
    "with concurrent.futures.ThreadPoolExecutor(max_workers=25) as executor:\n",
    "    print(\"Building future_map\")\n",
    "    future_map = {executor.submit(download, l): l for l in index}\n",
    "    print(\"Finished building future_map\")\n",
    "    for future in concurrent.futures.as_completed(future_map):\n",
    "        line = future_map[future]\n",
    "        try:\n",
    "            future.result()\n",
    "        except:\n",
    "            errored.append(line)"
   ]
  },
  {
   "cell_type": "code",
   "execution_count": 43,
   "metadata": {},
   "outputs": [
    {
     "data": {
      "text/plain": [
       "['1_0f69f683adf139491cd701484c178d646350fed7b182243ad9b6fea8.json\\n',\n",
       " '1_0f6a062c9e4b1cedb2de540150224b701b742b8626732f0f6fc34919.json\\n']"
      ]
     },
     "execution_count": 43,
     "metadata": {},
     "output_type": "execute_result"
    }
   ],
   "source": [
    "errored"
   ]
  },
  {
   "cell_type": "markdown",
   "metadata": {},
   "source": [
    "Downloading 2,059,733 files took ~8 hours.\n",
    "\n",
    "Could try more max_workers next time\n",
    "\n",
    "### Try re-downloading the errored files, they may have failed just because of network"
   ]
  },
  {
   "cell_type": "code",
   "execution_count": 44,
   "metadata": {},
   "outputs": [
    {
     "data": {
      "text/plain": [
       "True"
      ]
     },
     "execution_count": 44,
     "metadata": {},
     "output_type": "execute_result"
    }
   ],
   "source": [
    "download(errored[0])"
   ]
  },
  {
   "cell_type": "code",
   "execution_count": 45,
   "metadata": {},
   "outputs": [
    {
     "data": {
      "text/plain": [
       "True"
      ]
     },
     "execution_count": 45,
     "metadata": {},
     "output_type": "execute_result"
    }
   ],
   "source": [
    "download(errored[1])"
   ]
  },
  {
   "cell_type": "markdown",
   "metadata": {},
   "source": [
    "### Same number of files in index and on disk?"
   ]
  },
  {
   "cell_type": "code",
   "execution_count": 46,
   "metadata": {},
   "outputs": [
    {
     "data": {
      "text/plain": [
       "2059735"
      ]
     },
     "execution_count": 46,
     "metadata": {},
     "output_type": "execute_result"
    }
   ],
   "source": [
    "len(index)"
   ]
  },
  {
   "cell_type": "code",
   "execution_count": 49,
   "metadata": {},
   "outputs": [
    {
     "name": "stdout",
     "output_type": "stream",
     "text": [
      "0 directories, 2059735 files\r\n"
     ]
    }
   ],
   "source": [
    "!tree ../cache | tail -n1"
   ]
  },
  {
   "cell_type": "markdown",
   "metadata": {},
   "source": [
    "### Notes\n",
    "\n",
    "I am not an expert at using concurrent.futures. In other notebooks I've also used the ProcessPoolExecutor. It may have been faster using ProcessPoolExecutor I didn't try anything different. It downloaded overnight and that was good enough for my needs.\n",
    "\n",
    "Two files died probably because my internet went out briefly. I had no problems re-downloading them.\n"
   ]
  },
  {
   "cell_type": "code",
   "execution_count": null,
   "metadata": {},
   "outputs": [],
   "source": []
  },
  {
   "cell_type": "code",
   "execution_count": null,
   "metadata": {},
   "outputs": [],
   "source": []
  }
 ],
 "metadata": {
  "kernelspec": {
   "display_name": "Python 3",
   "language": "python",
   "name": "python3"
  },
  "language_info": {
   "codemirror_mode": {
    "name": "ipython",
    "version": 3
   },
   "file_extension": ".py",
   "mimetype": "text/x-python",
   "name": "python",
   "nbconvert_exporter": "python",
   "pygments_lexer": "ipython3",
   "version": "3.6.4"
  }
 },
 "nbformat": 4,
 "nbformat_minor": 2
}
